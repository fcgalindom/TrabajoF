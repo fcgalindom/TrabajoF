{
 "cells": [
  {
   "cell_type": "markdown",
   "metadata": {},
   "source": [
    "# Tweets download\n",
    "\n",
    "Previously, you need to create a Twitter developer account [here](https://developer.twitter.com/en)."
   ]
  },
  {
   "cell_type": "code",
   "execution_count": null,
   "metadata": {},
   "outputs": [],
   "source": [
    "!pip install tweepy"
   ]
  },
  {
   "cell_type": "code",
   "execution_count": null,
   "metadata": {},
   "outputs": [],
   "source": [
    "import time\n",
    "from datetime import datetime\n",
    "\n",
    "import tweepy\n",
    "\n",
    "import pymongo"
   ]
  },
  {
   "cell_type": "code",
   "execution_count": null,
   "metadata": {},
   "outputs": [],
   "source": [
    "DATE_FORMAT = '%a %b %d %H:%M:%S +0000 %Y'"
   ]
  },
  {
   "cell_type": "code",
   "execution_count": null,
   "metadata": {},
   "outputs": [],
   "source": [
    "# Twitter credentials\n",
    "API_KEY = ''\n",
    "API_SECRET_KEY = ''\n",
    "\n",
    "ACCESS_TOKEN = ''\n",
    "ACCESS_TOKEN_SECRET = ''"
   ]
  },
  {
   "cell_type": "code",
   "execution_count": null,
   "metadata": {},
   "outputs": [],
   "source": [
    "# MongoDB connection data\n",
    "HOST = '146.148.63.14'\n",
    "PORT = '27017'\n",
    "DB_NAME = 'trending'"
   ]
  },
  {
   "cell_type": "markdown",
   "metadata": {},
   "source": [
    "### Connecting to database"
   ]
  },
  {
   "cell_type": "code",
   "execution_count": null,
   "metadata": {},
   "outputs": [],
   "source": [
    "db = None\n",
    "try:\n",
    "    db_client = pymongo.MongoClient(HOST + ':' + PORT)\n",
    "    db = db_client[DB_NAME]\n",
    "    print('Conecction established successfully!')\n",
    "except pymongo.errors.ConnectionFailure:\n",
    "    print('Connection cannot be established')"
   ]
  },
  {
   "cell_type": "code",
   "execution_count": null,
   "metadata": {},
   "outputs": [],
   "source": [
    "USERS_TIMELINE_COL = db['users_timeline']\n",
    "HISTORY_COL = db['history']"
   ]
  },
  {
   "cell_type": "markdown",
   "metadata": {},
   "source": [
    "### Connecting to Twitter"
   ]
  },
  {
   "cell_type": "code",
   "execution_count": null,
   "metadata": {},
   "outputs": [],
   "source": [
    "auth = tweepy.OAuthHandler(API_KEY, API_SECRET_KEY)\n",
    "auth.set_access_token(ACCESS_TOKEN, ACCESS_TOKEN_SECRET)\n",
    "\n",
    "api = tweepy.API(auth)\n",
    "#stream = tweepy.Stream(API_KEY, API_SECRET_KEY, ACCESS_TOKEN, ACCESS_TOKEN_SECRET)"
   ]
  },
  {
   "cell_type": "markdown",
   "metadata": {},
   "source": [
    "### Getting latest timeline for an user"
   ]
  },
  {
   "cell_type": "code",
   "execution_count": null,
   "metadata": {},
   "outputs": [],
   "source": [
    "# https://docs.tweepy.org/en/latest/api.html#tweepy.API.user_timeline\n",
    "tweets = api.user_timeline(screen_name = 'IvanDuque', count = 200)"
   ]
  },
  {
   "cell_type": "code",
   "execution_count": null,
   "metadata": {},
   "outputs": [],
   "source": [
    "for tweet in tweets:\n",
    "    tweet_dict = tweet._json\n",
    "    tweet_dict['created_at'] = datetime.strptime(tweet_dict['created_at'], DATE_FORMAT)\n",
    "    USERS_TIMELINE_COL.insert_one(tweet_dict)"
   ]
  },
  {
   "cell_type": "markdown",
   "metadata": {},
   "source": [
    "### Getting history for a topic"
   ]
  },
  {
   "cell_type": "code",
   "execution_count": null,
   "metadata": {},
   "outputs": [],
   "source": [
    "id = None\n",
    "while True:\n",
    "    try:\n",
    "        # https://docs.tweepy.org/en/latest/api.html#tweepy.API.search_tweets\n",
    "        tweets = api.search_tweets(q = 'elecciones colombia', tweet_mode = 'extended', lang = 'es', max_id = id)\n",
    "        for tweet in tweets:\n",
    "            tweet_dict = tweet._json\n",
    "            if not tweet_dict['full_text'].startswith('RT'):\n",
    "                tweet_dict['created_at'] = datetime.strptime(tweet_dict['created_at'], DATE_FORMAT)\n",
    "                HISTORY_COL.insert_one(tweet_dict)\n",
    "        id = tweet.id\n",
    "    except tweepy.TooManyRequests:\n",
    "        print('Too many requests. Sleeping...')\n",
    "        time.sleep(600)\n",
    "        print('Getting back to action!')\n",
    "        pass"
   ]
  },
  {
   "cell_type": "code",
   "execution_count": null,
   "metadata": {},
   "outputs": [],
   "source": []
  }
 ],
 "metadata": {
  "kernelspec": {
   "display_name": "Python 3",
   "language": "python",
   "name": "python3"
  },
  "language_info": {
   "codemirror_mode": {
    "name": "ipython",
    "version": 3
   },
   "file_extension": ".py",
   "mimetype": "text/x-python",
   "name": "python",
   "nbconvert_exporter": "python",
   "pygments_lexer": "ipython3",
   "version": "3.7.6"
  }
 },
 "nbformat": 4,
 "nbformat_minor": 4
}
