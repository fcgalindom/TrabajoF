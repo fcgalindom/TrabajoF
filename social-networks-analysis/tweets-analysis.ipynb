{
 "cells": [
  {
   "cell_type": "markdown",
   "metadata": {},
   "source": [
    "# Analyzing tweets"
   ]
  },
  {
   "cell_type": "code",
   "execution_count": 1,
   "metadata": {},
   "outputs": [],
   "source": [
    "from collections import Counter\n",
    "\n",
    "import pymongo\n",
    "\n",
    "import nltk\n",
    "from nltk.tokenize import TweetTokenizer\n",
    "\n",
    "import pandas as pd\n",
    "import matplotlib.pyplot as plt\n",
    "%matplotlib inline"
   ]
  },
  {
   "cell_type": "code",
   "execution_count": 2,
   "metadata": {},
   "outputs": [],
   "source": [
    "# MongoDB connection data\n",
    "HOST = '146.148.63.14'\n",
    "PORT = '27017'\n",
    "DB_NAME = 'trending'"
   ]
  },
  {
   "cell_type": "markdown",
   "metadata": {},
   "source": [
    "### Connecting to database"
   ]
  },
  {
   "cell_type": "code",
   "execution_count": 3,
   "metadata": {},
   "outputs": [
    {
     "name": "stdout",
     "output_type": "stream",
     "text": [
      "Conecction established successfully!\n"
     ]
    }
   ],
   "source": [
    "db = None\n",
    "try:\n",
    "    db_client = pymongo.MongoClient(HOST + ':' + PORT)\n",
    "    db = db_client[DB_NAME]\n",
    "    print('Conecction established successfully!')\n",
    "except pymongo.errors.ConnectionFailure:\n",
    "    print('Connection cannot be established')"
   ]
  },
  {
   "cell_type": "code",
   "execution_count": 4,
   "metadata": {},
   "outputs": [],
   "source": [
    "HISTORY_COL = db['history']"
   ]
  },
  {
   "cell_type": "markdown",
   "metadata": {},
   "source": [
    "### Visualizing trends (hashtags and mentions)"
   ]
  },
  {
   "cell_type": "code",
   "execution_count": 5,
   "metadata": {},
   "outputs": [],
   "source": [
    "hashtags_counter = Counter()\n",
    "mentions_counter = Counter()"
   ]
  },
  {
   "cell_type": "code",
   "execution_count": 6,
   "metadata": {},
   "outputs": [],
   "source": [
    "tweets = HISTORY_COL.find({}, {'_id': 0, 'full_text': 1})"
   ]
  },
  {
   "cell_type": "code",
   "execution_count": 7,
   "metadata": {},
   "outputs": [
    {
     "name": "stderr",
     "output_type": "stream",
     "text": [
      "/Users/fabian/anaconda3/lib/python3.7/site-packages/ipykernel_launcher.py:1: DeprecationWarning: count is deprecated. Use Collection.count_documents instead.\n",
      "  \"\"\"Entry point for launching an IPython kernel.\n"
     ]
    },
    {
     "data": {
      "text/plain": [
       "737"
      ]
     },
     "execution_count": 7,
     "metadata": {},
     "output_type": "execute_result"
    }
   ],
   "source": [
    "tweets.count()"
   ]
  },
  {
   "cell_type": "code",
   "execution_count": 8,
   "metadata": {},
   "outputs": [],
   "source": [
    "# https://www.nltk.org/_modules/nltk/tokenize/casual.html\n",
    "tokenizer = TweetTokenizer(preserve_case = False, reduce_len = True)"
   ]
  },
  {
   "cell_type": "code",
   "execution_count": 9,
   "metadata": {},
   "outputs": [],
   "source": [
    "for tweet in tweets:\n",
    "    try:\n",
    "        terms_hash = [t for t in tokenizer.tokenize(tweet['full_text']) if (t.startswith('#') and len(t) > 1)]\n",
    "        hashtags_counter.update(terms_hash)\n",
    "        \n",
    "        terms_mentions = [t for t in tokenizer.tokenize(tweet['full_text']) if (t.startswith('@') and len(t) > 1)]\n",
    "        mentions_counter.update(terms_mentions)\n",
    "    except KeyError:\n",
    "        pass"
   ]
  },
  {
   "cell_type": "code",
   "execution_count": 10,
   "metadata": {},
   "outputs": [],
   "source": [
    "hashtags_df = pd.DataFrame.from_dict(hashtags_counter, orient = 'index').reset_index()\n",
    "hashtags_df.columns = ['Hashtag', 'Frecuency']\n",
    "hashtags_df = hashtags_df.sort_values(by = ['Frecuency'], ascending = False)\n",
    "hashtags_df = hashtags_df.head(10)"
   ]
  },
  {
   "cell_type": "code",
   "execution_count": 11,
   "metadata": {},
   "outputs": [
    {
     "data": {
      "text/html": [
       "<div>\n",
       "<style scoped>\n",
       "    .dataframe tbody tr th:only-of-type {\n",
       "        vertical-align: middle;\n",
       "    }\n",
       "\n",
       "    .dataframe tbody tr th {\n",
       "        vertical-align: top;\n",
       "    }\n",
       "\n",
       "    .dataframe thead th {\n",
       "        text-align: right;\n",
       "    }\n",
       "</style>\n",
       "<table border=\"1\" class=\"dataframe\">\n",
       "  <thead>\n",
       "    <tr style=\"text-align: right;\">\n",
       "      <th></th>\n",
       "      <th>Hashtag</th>\n",
       "      <th>Frecuency</th>\n",
       "    </tr>\n",
       "  </thead>\n",
       "  <tbody>\n",
       "    <tr>\n",
       "      <th>5</th>\n",
       "      <td>#colombia</td>\n",
       "      <td>46</td>\n",
       "    </tr>\n",
       "    <tr>\n",
       "      <th>4</th>\n",
       "      <td>#colombiadecide</td>\n",
       "      <td>24</td>\n",
       "    </tr>\n",
       "    <tr>\n",
       "      <th>3</th>\n",
       "      <td>#elecciones2022</td>\n",
       "      <td>17</td>\n",
       "    </tr>\n",
       "    <tr>\n",
       "      <th>50</th>\n",
       "      <td>#elriesgoes</td>\n",
       "      <td>12</td>\n",
       "    </tr>\n",
       "    <tr>\n",
       "      <th>13</th>\n",
       "      <td>#paroarmado</td>\n",
       "      <td>10</td>\n",
       "    </tr>\n",
       "    <tr>\n",
       "      <th>16</th>\n",
       "      <td>#29mayo</td>\n",
       "      <td>9</td>\n",
       "    </tr>\n",
       "    <tr>\n",
       "      <th>32</th>\n",
       "      <td>#elecciones</td>\n",
       "      <td>9</td>\n",
       "    </tr>\n",
       "    <tr>\n",
       "      <th>40</th>\n",
       "      <td>#claroyraspao</td>\n",
       "      <td>8</td>\n",
       "    </tr>\n",
       "    <tr>\n",
       "      <th>39</th>\n",
       "      <td>#talcual</td>\n",
       "      <td>8</td>\n",
       "    </tr>\n",
       "    <tr>\n",
       "      <th>41</th>\n",
       "      <td>#amigosdenuevo</td>\n",
       "      <td>8</td>\n",
       "    </tr>\n",
       "  </tbody>\n",
       "</table>\n",
       "</div>"
      ],
      "text/plain": [
       "            Hashtag  Frecuency\n",
       "5         #colombia         46\n",
       "4   #colombiadecide         24\n",
       "3   #elecciones2022         17\n",
       "50      #elriesgoes         12\n",
       "13      #paroarmado         10\n",
       "16          #29mayo          9\n",
       "32      #elecciones          9\n",
       "40    #claroyraspao          8\n",
       "39         #talcual          8\n",
       "41   #amigosdenuevo          8"
      ]
     },
     "execution_count": 11,
     "metadata": {},
     "output_type": "execute_result"
    }
   ],
   "source": [
    "hashtags_df"
   ]
  },
  {
   "cell_type": "code",
   "execution_count": 12,
   "metadata": {},
   "outputs": [],
   "source": [
    "mentions_df = pd.DataFrame.from_dict(mentions_counter, orient = 'index').reset_index()\n",
    "mentions_df.columns = ['Mention', 'Frecuency']\n",
    "mentions_df = mentions_df.sort_values(by = ['Frecuency'], ascending = False)\n",
    "mentions_df = mentions_df.head(10)"
   ]
  },
  {
   "cell_type": "code",
   "execution_count": 13,
   "metadata": {},
   "outputs": [
    {
     "data": {
      "text/html": [
       "<div>\n",
       "<style scoped>\n",
       "    .dataframe tbody tr th:only-of-type {\n",
       "        vertical-align: middle;\n",
       "    }\n",
       "\n",
       "    .dataframe tbody tr th {\n",
       "        vertical-align: top;\n",
       "    }\n",
       "\n",
       "    .dataframe thead th {\n",
       "        text-align: right;\n",
       "    }\n",
       "</style>\n",
       "<table border=\"1\" class=\"dataframe\">\n",
       "  <thead>\n",
       "    <tr style=\"text-align: right;\">\n",
       "      <th></th>\n",
       "      <th>Mention</th>\n",
       "      <th>Frecuency</th>\n",
       "    </tr>\n",
       "  </thead>\n",
       "  <tbody>\n",
       "    <tr>\n",
       "      <th>16</th>\n",
       "      <td>@cne_colombia</td>\n",
       "      <td>130</td>\n",
       "    </tr>\n",
       "    <tr>\n",
       "      <th>4</th>\n",
       "      <td>@pgn_col</td>\n",
       "      <td>84</td>\n",
       "    </tr>\n",
       "    <tr>\n",
       "      <th>41</th>\n",
       "      <td>@ficogutierrez</td>\n",
       "      <td>62</td>\n",
       "    </tr>\n",
       "    <tr>\n",
       "      <th>11</th>\n",
       "      <td>@registraduria</td>\n",
       "      <td>56</td>\n",
       "    </tr>\n",
       "    <tr>\n",
       "      <th>17</th>\n",
       "      <td>@petrogustavo</td>\n",
       "      <td>51</td>\n",
       "    </tr>\n",
       "    <tr>\n",
       "      <th>14</th>\n",
       "      <td>@fiscaliacol</td>\n",
       "      <td>48</td>\n",
       "    </tr>\n",
       "    <tr>\n",
       "      <th>0</th>\n",
       "      <td>@ivanduque</td>\n",
       "      <td>36</td>\n",
       "    </tr>\n",
       "    <tr>\n",
       "      <th>46</th>\n",
       "      <td>@infopresidencia</td>\n",
       "      <td>34</td>\n",
       "    </tr>\n",
       "    <tr>\n",
       "      <th>45</th>\n",
       "      <td>@carlosfmejia</td>\n",
       "      <td>24</td>\n",
       "    </tr>\n",
       "    <tr>\n",
       "      <th>1</th>\n",
       "      <td>@alvarouribevel</td>\n",
       "      <td>21</td>\n",
       "    </tr>\n",
       "  </tbody>\n",
       "</table>\n",
       "</div>"
      ],
      "text/plain": [
       "             Mention  Frecuency\n",
       "16     @cne_colombia        130\n",
       "4           @pgn_col         84\n",
       "41    @ficogutierrez         62\n",
       "11    @registraduria         56\n",
       "17     @petrogustavo         51\n",
       "14      @fiscaliacol         48\n",
       "0         @ivanduque         36\n",
       "46  @infopresidencia         34\n",
       "45     @carlosfmejia         24\n",
       "1    @alvarouribevel         21"
      ]
     },
     "execution_count": 13,
     "metadata": {},
     "output_type": "execute_result"
    }
   ],
   "source": [
    "mentions_df"
   ]
  },
  {
   "cell_type": "code",
   "execution_count": 14,
   "metadata": {},
   "outputs": [
    {
     "data": {
      "image/png": "[encoded data removed]",
      "text/plain": [
       "<Figure size 1440x576 with 1 Axes>"
      ]
     },
     "metadata": {
      "needs_background": "light"
     },
     "output_type": "display_data"
    }
   ],
   "source": [
    "ax = hashtags_df.plot(kind = 'barh', figsize = (20, 8))\n",
    "ax.set_yticklabels(hashtags_df['Hashtag'])\n",
    "plt.title('Top hashtags by frecuency')\n",
    "plt.show()"
   ]
  },
  {
   "cell_type": "code",
   "execution_count": 15,
   "metadata": {},
   "outputs": [
    {
     "data": {
      "image/png": "[encoded data removed]",
      "text/plain": [
       "<Figure size 1440x576 with 1 Axes>"
      ]
     },
     "metadata": {
      "needs_background": "light"
     },
     "output_type": "display_data"
    }
   ],
   "source": [
    "ax = mentions_df.plot(kind = 'barh', figsize = (20, 8))\n",
    "ax.set_yticklabels(mentions_df['Mention'])\n",
    "plt.title('Top mentions by frecuency')\n",
    "plt.show()"
   ]
  },
  {
   "cell_type": "markdown",
   "metadata": {},
   "source": [
    "### Creating and using text index"
   ]
  },
  {
   "cell_type": "code",
   "execution_count": 16,
   "metadata": {},
   "outputs": [
    {
     "data": {
      "text/plain": [
       "'full_text_text'"
      ]
     },
     "execution_count": 16,
     "metadata": {},
     "output_type": "execute_result"
    }
   ],
   "source": [
    "HISTORY_COL.create_index([('full_text', pymongo.TEXT)], default_language = 'spanish')"
   ]
  },
  {
   "cell_type": "code",
   "execution_count": 17,
   "metadata": {},
   "outputs": [],
   "source": [
    "tweets = HISTORY_COL.find(\n",
    "   { '$text': { '$search': 'petro atentado' } },\n",
    "   { 'score': { '$meta': 'textScore' } }\n",
    ").sort([('score', {'$meta': 'textScore'})])"
   ]
  },
  {
   "cell_type": "code",
   "execution_count": 18,
   "metadata": {},
   "outputs": [
    {
     "name": "stderr",
     "output_type": "stream",
     "text": [
      "/Users/fabian/anaconda3/lib/python3.7/site-packages/ipykernel_launcher.py:1: DeprecationWarning: count is deprecated. Use Collection.count_documents instead.\n",
      "  \"\"\"Entry point for launching an IPython kernel.\n"
     ]
    },
    {
     "data": {
      "text/plain": [
       "143"
      ]
     },
     "execution_count": 18,
     "metadata": {},
     "output_type": "execute_result"
    }
   ],
   "source": [
    "tweets.count()"
   ]
  },
  {
   "cell_type": "code",
   "execution_count": 19,
   "metadata": {},
   "outputs": [
    {
     "name": "stdout",
     "output_type": "stream",
     "text": [
      "Text: @bpmacias @PaulaBayarte @InesAmarelo @JavierCBugarin @carlasamon 🇨🇴 Un posible atentado contra el candidato Gustavo Petro preocupa a Colombia a tres semanas de las elecciones. 🗳\n",
      "\n",
      "https://t.co/u7OwKlgtiA https://t.co/4vI8OFEnwS\n",
      "Score: 1.04\n",
      "\n",
      "\n",
      "Text: https://t.co/XgHuyrM1ZI \n",
      "#ElRiesgoEs QUE SE EXTIENDA EL #ParoArmado DE PETRO HASTA LAS ELECCIONES PARA EVITAR QUE COLOMBIA VOTE CONTRA PETRO\n",
      "\n",
      "PERO, EL PARO ES DEL CLAN DEL GOLFO - OTONIEL\n",
      "\n",
      "...\n",
      "\n",
      "CLAN DEL GOLFO TRABAJA PAR EL CÁRTEL NARCOTERRORISTA FARC omunes\n",
      "\n",
      "OSEA SI ES DE PETRO!\n",
      "Score: 0.96875\n",
      "\n",
      "\n",
      "Text: ¡Viva Petro!\n",
      "Colombia | Petro anuncia que si gana restablecerá las relaciones diplomáticas y consulares con Venezuela @InfoNodal https://t.co/VjYoQsWoY1\n",
      "Score: 0.8382352941176471\n",
      "\n",
      "\n",
      "Text: @CoronelBillKil1 El tipo más demócrata de Colombia es Petro. No solo le robaron las elecciones de hace 4 años ,sino que el estamento no se ha encargado sino de perseguirlo con sanciones y faltas investigaciones. Todo lo ha ganado Petro\n",
      "Score: 0.8214285714285715\n",
      "\n",
      "\n",
      "Text: @Marbelle30 Imagínense que Colombia está tan llevada del P... que petro ganará las próximas elecciones presidenciales, la gente está mamada, cansada del uribismo como les parece pues , en medio del desespero de siempre  lo mismo y nada de progreso,  prefieren la incertidumbre con petro .\n",
      "Score: 0.81\n",
      "\n",
      "\n"
     ]
    }
   ],
   "source": [
    "for tweet in tweets[:5]:\n",
    "    print('Text:', tweet['full_text'])\n",
    "    print('Score:', tweet['score'])\n",
    "    print('\\n')"
   ]
  },
  {
   "cell_type": "markdown",
   "metadata": {},
   "source": [
    "### Analyzing time"
   ]
  },
  {
   "cell_type": "code",
   "execution_count": 20,
   "metadata": {},
   "outputs": [],
   "source": [
    "tweets = HISTORY_COL.find({}, {'created_at': True})"
   ]
  },
  {
   "cell_type": "code",
   "execution_count": 21,
   "metadata": {},
   "outputs": [],
   "source": [
    "creation_dates = []\n",
    "for tweet in tweets:\n",
    "    try:\n",
    "        creation_dates.append(tweet['created_at'])\n",
    "    except:\n",
    "        pass"
   ]
  },
  {
   "cell_type": "code",
   "execution_count": 22,
   "metadata": {},
   "outputs": [
    {
     "data": {
      "image/png": "[encoded data removed]",
      "text/plain": [
       "<Figure size 1440x576 with 1 Axes>"
      ]
     },
     "metadata": {
      "needs_background": "light"
     },
     "output_type": "display_data"
    }
   ],
   "source": [
    "plt.figure(figsize = (20, 8))\n",
    "plt.hist(creation_dates, bins = 100)\n",
    "plt.show()"
   ]
  },
  {
   "cell_type": "code",
   "execution_count": null,
   "metadata": {},
   "outputs": [],
   "source": []
  }
 ],
 "metadata": {
  "kernelspec": {
   "display_name": "Python 3",
   "language": "python",
   "name": "python3"
  },
  "language_info": {
   "codemirror_mode": {
    "name": "ipython",
    "version": 3
   },
   "file_extension": ".py",
   "mimetype": "text/x-python",
   "name": "python",
   "nbconvert_exporter": "python",
   "pygments_lexer": "ipython3",
   "version": "3.7.6"
  }
 },
 "nbformat": 4,
 "nbformat_minor": 4
}
